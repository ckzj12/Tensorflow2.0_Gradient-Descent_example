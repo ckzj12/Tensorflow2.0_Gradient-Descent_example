{
  "nbformat": 4,
  "nbformat_minor": 0,
  "metadata": {
    "kernelspec": {
      "display_name": "Python 3",
      "language": "python",
      "name": "python3"
    },
    "language_info": {
      "codemirror_mode": {
        "name": "ipython",
        "version": 3
      },
      "file_extension": ".py",
      "mimetype": "text/x-python",
      "name": "python",
      "nbconvert_exporter": "python",
      "pygments_lexer": "ipython3",
      "version": "3.7.3"
    },
    "colab": {
      "name": "GD_example_re.ipynb",
      "provenance": [],
      "include_colab_link": true
    }
  },
  "cells": [
    {
      "cell_type": "markdown",
      "metadata": {
        "id": "view-in-github",
        "colab_type": "text"
      },
      "source": [
        "<a href=\"https://colab.research.google.com/github/ckzj12/Tensorflow2.0_Gradient-Descent_example/blob/master/GD_example_re.ipynb\" target=\"_parent\"><img src=\"https://colab.research.google.com/assets/colab-badge.svg\" alt=\"Open In Colab\"/></a>"
      ]
    },
    {
      "cell_type": "code",
      "metadata": {
        "id": "Yw05NLVvS4MX",
        "colab_type": "code",
        "colab": {},
        "outputId": "8f9186d2-3c40-42b0-b479-4bf4b7e01b67"
      },
      "source": [
        "import tensorflow as tf\n",
        "print(tf.__version__)\n",
        "\n",
        "import matplotlib.pyplot as plt\n",
        "import numpy as np"
      ],
      "execution_count": 0,
      "outputs": [
        {
          "output_type": "stream",
          "text": [
            "2.0.0\n"
          ],
          "name": "stdout"
        }
      ]
    },
    {
      "cell_type": "markdown",
      "metadata": {
        "id": "gMzsISmhS4Mb",
        "colab_type": "text"
      },
      "source": [
        "# Gradient Descent"
      ]
    },
    {
      "cell_type": "markdown",
      "metadata": {
        "id": "Y4cQNPk2S4Mc",
        "colab_type": "text"
      },
      "source": [
        "Note: in this example, gradient descent is performed for 20 times, without tolerance check"
      ]
    },
    {
      "cell_type": "markdown",
      "metadata": {
        "id": "flUc-PPuS4Md",
        "colab_type": "text"
      },
      "source": [
        "Set up the initial values (Just for checking)"
      ]
    },
    {
      "cell_type": "code",
      "metadata": {
        "id": "xiuRqP28S4Md",
        "colab_type": "code",
        "colab": {},
        "outputId": "df598064-9d4b-4e37-fd48-e1dc900552be"
      },
      "source": [
        "w = tf.Variable(3, name='theta', dtype=tf.float32)\n",
        "loss = tf.math.square(w) # Assumed loss function\n",
        "\n",
        "print(w.numpy(), loss.numpy())"
      ],
      "execution_count": 0,
      "outputs": [
        {
          "output_type": "stream",
          "text": [
            "3.0 9.0\n"
          ],
          "name": "stdout"
        }
      ]
    },
    {
      "cell_type": "markdown",
      "metadata": {
        "id": "43yoM6QsS4Mg",
        "colab_type": "text"
      },
      "source": [
        "Run the gradient descent with learning rate of 0.3"
      ]
    },
    {
      "cell_type": "code",
      "metadata": {
        "id": "j1EiI_gwS4Mh",
        "colab_type": "code",
        "colab": {},
        "outputId": "c858de87-bd83-41b0-8e6c-fe5570bc3672"
      },
      "source": [
        "learning_rate = 0.3\n",
        "GD_hist = [] # Initialize history list\n",
        "\n",
        "for i in range(20):\n",
        "    with tf.GradientTape() as g:\n",
        "        g.watch(w)\n",
        "        loss = tf.math.square(w)\n",
        "    dloss_dw = g.gradient(loss, w)\n",
        "    \n",
        "    # Append to history\n",
        "    GD_hist.append((w,loss))\n",
        "    \n",
        "    # Update w\n",
        "    w = w - learning_rate * (dloss_dw)\n",
        "    \n",
        "    # print\n",
        "    print(\"Updated w is\")\n",
        "    tf.print(w)\n",
        "    #print(\"and gradient was {}\".format(dloss_dw))\n",
        "    #print(\"\\n\")"
      ],
      "execution_count": 0,
      "outputs": [
        {
          "output_type": "stream",
          "text": [
            "Updated w is\n",
            "1.19999993\n",
            "Updated w is\n",
            "0.479999959\n",
            "Updated w is\n",
            "0.191999972\n",
            "Updated w is\n",
            "0.0767999813\n",
            "Updated w is\n",
            "0.0307199918\n",
            "Updated w is\n",
            "0.0122879967\n",
            "Updated w is\n",
            "0.00491519831\n",
            "Updated w is\n",
            "0.00196607923\n",
            "Updated w is\n",
            "0.000786431599\n",
            "Updated w is\n",
            "0.000314572622\n",
            "Updated w is\n",
            "0.000125829043\n",
            "Updated w is\n",
            "5.03316114e-05\n",
            "Updated w is\n",
            "2.01326438e-05\n",
            "Updated w is\n",
            "8.05305717e-06\n",
            "Updated w is\n",
            "3.22122287e-06\n",
            "Updated w is\n",
            "1.2884891e-06\n",
            "Updated w is\n",
            "5.15395584e-07\n",
            "Updated w is\n",
            "2.06158234e-07\n",
            "Updated w is\n",
            "8.24632878e-08\n",
            "Updated w is\n",
            "3.29853123e-08\n"
          ],
          "name": "stdout"
        }
      ]
    },
    {
      "cell_type": "markdown",
      "metadata": {
        "id": "RnFYnqqJS4Mj",
        "colab_type": "text"
      },
      "source": [
        "As shown above, the optimzed value of w is converged to 0 <br> We can check it with plot"
      ]
    },
    {
      "cell_type": "code",
      "metadata": {
        "id": "qfPCY8TUS4Mj",
        "colab_type": "code",
        "colab": {}
      },
      "source": [
        "# Plot data gen.\n",
        "\n",
        "wData = np.arange(-10,10,0.1)\n",
        "lossData = wData ** 2"
      ],
      "execution_count": 0,
      "outputs": []
    },
    {
      "cell_type": "markdown",
      "metadata": {
        "id": "j3L4Ye1PS4Ml",
        "colab_type": "text"
      },
      "source": [
        "Now, plot the figure"
      ]
    },
    {
      "cell_type": "markdown",
      "metadata": {
        "id": "HJ0bqEbLS4Mm",
        "colab_type": "text"
      },
      "source": [
        "Let's initialize w, and see how the gradient descent has been done."
      ]
    },
    {
      "cell_type": "code",
      "metadata": {
        "id": "yAqlOtzrS4Mm",
        "colab_type": "code",
        "colab": {},
        "outputId": "e7352421-b162-482b-95a2-caf0bd78cfeb"
      },
      "source": [
        "plt.figure()\n",
        "for num, item in enumerate(GD_hist):\n",
        "    plt.plot(item[0].numpy(),item[1].numpy(),\"o\")\n",
        "plt.title('Example Gradient Descent')\n",
        "plt.plot(wData,lossData)\n",
        "plt.xlim([-0.1, 3.1])\n",
        "plt.ylim([-0.1, 10])\n",
        "plt.show()"
      ],
      "execution_count": 0,
      "outputs": [
        {
          "output_type": "display_data",
          "data": {
            "image/png": "[encoded data removed]",
            "text/plain": [
              "<Figure size 432x288 with 1 Axes>"
            ]
          },
          "metadata": {
            "tags": [],
            "needs_background": "light"
          }
        }
      ]
    },
    {
      "cell_type": "markdown",
      "metadata": {
        "id": "z7lkALtlS4Mo",
        "colab_type": "text"
      },
      "source": [
        "The gradient descent goes from initial value (w = 3.0) to optimized value (w = 0.0)"
      ]
    },
    {
      "cell_type": "markdown",
      "metadata": {
        "id": "SvMfZ2oSS4Mp",
        "colab_type": "text"
      },
      "source": [
        "# Gradient descent with data points and hypothesis"
      ]
    },
    {
      "cell_type": "markdown",
      "metadata": {
        "id": "RTQVZLH9S4Mp",
        "colab_type": "text"
      },
      "source": [
        "Assume the hypothesis is linear (h(x) = w * x + w0) <br> And the given data points are [1,2], [2,4], [3,3.5]  <a id='another_cell'></a>"
      ]
    },
    {
      "cell_type": "code",
      "metadata": {
        "id": "1fyPe1fiS4Mq",
        "colab_type": "code",
        "colab": {}
      },
      "source": [
        "dataX = [1,2,3]\n",
        "dataY = [2,1,1.5]\n",
        "numData = len(dataX)"
      ],
      "execution_count": 0,
      "outputs": []
    },
    {
      "cell_type": "code",
      "metadata": {
        "id": "yvHcCKghS4Mr",
        "colab_type": "code",
        "colab": {},
        "outputId": "ad419ea6-0490-403b-bd4c-e2b62787f00e"
      },
      "source": [
        "plt.figure()\n",
        "plt.plot(dataX,dataY,'o')\n",
        "plt.title(\"Data points\")\n",
        "plt.xlim([0, 5])\n",
        "plt.ylim([0, 5])"
      ],
      "execution_count": 0,
      "outputs": [
        {
          "output_type": "execute_result",
          "data": {
            "text/plain": [
              "(0, 5)"
            ]
          },
          "metadata": {
            "tags": []
          },
          "execution_count": 7
        },
        {
          "output_type": "display_data",
          "data": {
            "image/png": "[encoded data removed]",
            "text/plain": [
              "<Figure size 432x288 with 1 Axes>"
            ]
          },
          "metadata": {
            "tags": [],
            "needs_background": "light"
          }
        }
      ]
    },
    {
      "cell_type": "markdown",
      "metadata": {
        "id": "Q_jzQhHqS4Mt",
        "colab_type": "text"
      },
      "source": [
        "the loss function can be defined as sum of (h(x) - y)^2"
      ]
    },
    {
      "cell_type": "markdown",
      "metadata": {
        "id": "rpP8MDLJS4Mt",
        "colab_type": "text"
      },
      "source": [
        "In here, starting wegiths (w and w0) are assumed to be 1 (both values)"
      ]
    },
    {
      "cell_type": "code",
      "metadata": {
        "id": "3uUcaWUJS4Mu",
        "colab_type": "code",
        "colab": {}
      },
      "source": [
        "w = tf.Variable(1, name='w', dtype=tf.float32) # Initialize w\n",
        "w0 = tf.Variable(1, name='w0', dtype=tf.float32) # Initialize w0"
      ],
      "execution_count": 0,
      "outputs": []
    },
    {
      "cell_type": "markdown",
      "metadata": {
        "id": "2gcGEQc7S4Mv",
        "colab_type": "text"
      },
      "source": [
        "Now, define h(x) <a id='hypothesis'></a>"
      ]
    },
    {
      "cell_type": "code",
      "metadata": {
        "id": "IThXQj8yS4Mw",
        "colab_type": "code",
        "colab": {}
      },
      "source": [
        "def h(x):\n",
        "    return w * x + w0"
      ],
      "execution_count": 0,
      "outputs": []
    },
    {
      "cell_type": "markdown",
      "metadata": {
        "id": "GBvTFZLWS4Mx",
        "colab_type": "text"
      },
      "source": [
        "Let's check the initial values"
      ]
    },
    {
      "cell_type": "code",
      "metadata": {
        "id": "4ULru6v9S4My",
        "colab_type": "code",
        "colab": {},
        "outputId": "491e627f-53d6-4d48-e1aa-c0dbe306a60b"
      },
      "source": [
        "print(h(dataX).numpy())\n",
        "print(dataY)\n",
        "print((h(dataX).numpy() - dataY) ** 2)\n",
        "print(\"Initial loss = {}\".format(sum((h(dataX).numpy() - dataY) ** 2)))"
      ],
      "execution_count": 0,
      "outputs": [
        {
          "output_type": "stream",
          "text": [
            "[2. 3. 4.]\n",
            "[2, 1, 1.5]\n",
            "[0.   4.   6.25]\n",
            "Initial loss = 10.25\n"
          ],
          "name": "stdout"
        }
      ]
    },
    {
      "cell_type": "code",
      "metadata": {
        "id": "ueGhgNqkS4Mz",
        "colab_type": "code",
        "colab": {},
        "outputId": "a44a29ce-b8eb-4593-e125-d3e9d0630413"
      },
      "source": [
        "loss = sum((h(dataX) - dataY) ** 2)\n",
        "print(\"Initial loss is {}\".format(loss))"
      ],
      "execution_count": 0,
      "outputs": [
        {
          "output_type": "stream",
          "text": [
            "Initial loss is 10.25\n"
          ],
          "name": "stdout"
        }
      ]
    },
    {
      "cell_type": "markdown",
      "metadata": {
        "id": "DQT4n3MhS4M1",
        "colab_type": "text"
      },
      "source": [
        "Check the initial plot"
      ]
    },
    {
      "cell_type": "code",
      "metadata": {
        "id": "PGVnX_amS4M1",
        "colab_type": "code",
        "colab": {}
      },
      "source": [
        "xPlot = np.arange(0,5,0.1)\n",
        "hPlot = h(xPlot)"
      ],
      "execution_count": 0,
      "outputs": []
    },
    {
      "cell_type": "code",
      "metadata": {
        "id": "tAzDthAtS4M3",
        "colab_type": "code",
        "colab": {},
        "outputId": "d39338be-2591-4f21-a6eb-d7875e77252c"
      },
      "source": [
        "plt.figure()\n",
        "plt.title('Example Gradient Descent')\n",
        "plt.plot(xPlot,hPlot)\n",
        "plt.plot(dataX,dataY,'o')\n",
        "plt.xlim([0, 5])\n",
        "plt.ylim([0, 5])\n",
        "plt.show()"
      ],
      "execution_count": 0,
      "outputs": [
        {
          "output_type": "display_data",
          "data": {
            "image/png": "[encoded data removed]",
            "text/plain": [
              "<Figure size 432x288 with 1 Axes>"
            ]
          },
          "metadata": {
            "tags": [],
            "needs_background": "light"
          }
        }
      ]
    },
    {
      "cell_type": "markdown",
      "metadata": {
        "id": "ZILHBPJ8S4M4",
        "colab_type": "text"
      },
      "source": [
        "Now, run the gradient descent"
      ]
    },
    {
      "cell_type": "code",
      "metadata": {
        "scrolled": true,
        "id": "FMpjrXCBS4M5",
        "colab_type": "code",
        "colab": {},
        "outputId": "947b3263-e5fc-494d-bc53-810b5ab99867"
      },
      "source": [
        "learning_rate = 0.3\n",
        "\n",
        "for i in range(100):\n",
        "    with tf.GradientTape() as g:\n",
        "        with tf.GradientTape() as g0:\n",
        "            g.watch(w)\n",
        "            g0.watch(w0)\n",
        "            loss = 1/(2*numData) * sum((h(dataX) - dataY) ** 2)\n",
        "    dloss_dw = g.gradient(loss, w)\n",
        "    dloss_dw0 = g0.gradient(loss, w0)\n",
        "    \n",
        "    # Update w\n",
        "    wNew = w - learning_rate * (dloss_dw)\n",
        "    w0New = w0 - learning_rate * (dloss_dw0)\n",
        "    lossNew = tf.math.square(wNew)\n",
        "    \n",
        "    # print\n",
        "    plt.plot(w.numpy(),loss.numpy(),\"o\")\n",
        "    \n",
        "    # Update\n",
        "    w = wNew\n",
        "    w0 = w0New\n",
        "    \n",
        "    \n",
        "    \n",
        "print(\"Loss is\")\n",
        "tf.print(loss)\n"
      ],
      "execution_count": 0,
      "outputs": [
        {
          "output_type": "stream",
          "text": [
            "Loss is\n",
            "0.0625840724\r\n"
          ],
          "name": "stdout"
        },
        {
          "output_type": "display_data",
          "data": {
            "image/png": "[encoded data removed]",
            "text/plain": [
              "<Figure size 432x288 with 1 Axes>"
            ]
          },
          "metadata": {
            "tags": [],
            "needs_background": "light"
          }
        }
      ]
    },
    {
      "cell_type": "markdown",
      "metadata": {
        "id": "bpmx1gYoS4M7",
        "colab_type": "text"
      },
      "source": [
        "Let's check the updated w and w0 as follows:"
      ]
    },
    {
      "cell_type": "code",
      "metadata": {
        "id": "SQ4gPy0BS4M8",
        "colab_type": "code",
        "colab": {},
        "outputId": "ea959b8c-2f48-4829-a275-2e7935077795"
      },
      "source": [
        "print(w.numpy(), w0.numpy())"
      ],
      "execution_count": 0,
      "outputs": [
        {
          "output_type": "stream",
          "text": [
            "-0.23548318 1.9669998\n"
          ],
          "name": "stdout"
        }
      ]
    },
    {
      "cell_type": "markdown",
      "metadata": {
        "id": "gVXAzvxSS4M_",
        "colab_type": "text"
      },
      "source": [
        "Now, check the result"
      ]
    },
    {
      "cell_type": "code",
      "metadata": {
        "id": "kV9I2ko5S4NA",
        "colab_type": "code",
        "colab": {}
      },
      "source": [
        "xPlot = np.arange(0,5,0.1)\n",
        "hPlot = h(xPlot)"
      ],
      "execution_count": 0,
      "outputs": []
    },
    {
      "cell_type": "code",
      "metadata": {
        "scrolled": true,
        "id": "touGPBKXS4ND",
        "colab_type": "code",
        "colab": {},
        "outputId": "a33b2a79-a07d-4aac-8507-2aa1f9d8b9c5"
      },
      "source": [
        "plt.title('Example Gradient Descent')\n",
        "plt.plot()\n",
        "plt.plot(xPlot,hPlot)\n",
        "plt.plot(dataX,dataY,'o')\n",
        "plt.xlim([0, 5])\n",
        "plt.ylim([0, 5])\n",
        "plt.show()"
      ],
      "execution_count": 0,
      "outputs": [
        {
          "output_type": "display_data",
          "data": {
            "image/png": "[encoded data removed]",
            "text/plain": [
              "<Figure size 432x288 with 1 Axes>"
            ]
          },
          "metadata": {
            "tags": [],
            "needs_background": "light"
          }
        }
      ]
    },
    {
      "cell_type": "markdown",
      "metadata": {
        "id": "Uho3l8dFS4NF",
        "colab_type": "text"
      },
      "source": [
        "You can try with your own data points by changing dataX and dataY above in [Here](#another_cell)"
      ]
    },
    {
      "cell_type": "markdown",
      "metadata": {
        "id": "MOueGNf9S4NF",
        "colab_type": "text"
      },
      "source": [
        "You can also change the hypothesis (for example, to quadratic function) and run the gradient descent. <br> You can modify your hypothesis in [Here](#hypothesis)"
      ]
    }
  ]
}